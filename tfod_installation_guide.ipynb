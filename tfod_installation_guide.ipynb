{
 "metadata": {
  "language_info": {
   "codemirror_mode": {
    "name": "ipython",
    "version": 3
   },
   "file_extension": ".py",
   "mimetype": "text/x-python",
   "name": "python",
   "nbconvert_exporter": "python",
   "pygments_lexer": "ipython3",
   "version": "3.8.10"
  },
  "orig_nbformat": 2,
  "kernelspec": {
   "name": "python3810jvsc74a57bd05c0372ed38b372118c24adb00d45654d76c8d10261533c5724e3f5fc1d75489a",
   "display_name": "Python 3.8.10 64-bit"
  }
 },
 "nbformat": 4,
 "nbformat_minor": 2,
 "cells": [
  {
   "source": [
    "# How to install Tensorflow Object Detection API - locally (For Windows)"
   ],
   "cell_type": "markdown",
   "metadata": {}
  },
  {
   "source": [
    "## 1. At First Download or Git Clone the Repository : \n",
    "- `Gitlink`: [https://github.com/tensorflow/models.git]\n",
    "- `Repo Link` : [https://github.com/tensorflow/models/blob/b95885ec68bad8d3616d03a1983183d74a5e5e29/research/object_detection/g3doc/tf2.md]\n",
    " "
   ],
   "cell_type": "markdown",
   "metadata": {}
  },
  {
   "source": [
    "## 2. Download & Install Visual C++ 14.0 (required)\n",
    "- `link` : https://visualstudio.microsoft.com/visual-cpp-build-tools/ "
   ],
   "cell_type": "markdown",
   "metadata": {}
  },
  {
   "source": [
    "## 3. Download Protocol Buffer \n",
    "- go to this `link` : https://github.com/protocolbuffers/protobuf/releases/tag/v3.17.1\n",
    "- Download the `win32/win64` version depending on your system.\n",
    "- Extract it."
   ],
   "cell_type": "markdown",
   "metadata": {}
  },
  {
   "source": [
    "## 4. Open cmd and change Directory to `models/research/`"
   ],
   "cell_type": "markdown",
   "metadata": {}
  },
  {
   "source": [
    "## 5. Compile the Protoc\n",
    "- in cmd, Drag and drop your `protoc.exe` file and write this command: `protoc.exe` object_detection/protos/*.proto --python_out=. "
   ],
   "cell_type": "markdown",
   "metadata": {}
  },
  {
   "source": [
    "## 6. Copy the `setup.py` file from the following directory `object_detection/packages/tf2/setup.py` to `model/research` folder"
   ],
   "cell_type": "markdown",
   "metadata": {}
  },
  {
   "source": [
    "## 7. Install TensorFlow Object Detection API.\n",
    "- Run the Following command : python -m pip install --use-feature=2020-resolver ."
   ],
   "cell_type": "markdown",
   "metadata": {}
  },
  {
   "source": [
    "## 8. Test the installation.\n",
    "- run the command : python object_detection/builders/model_builder_tf2_test.py"
   ],
   "cell_type": "markdown",
   "metadata": {}
  },
  {
   "source": [],
   "cell_type": "markdown",
   "metadata": {}
  }
 ]
}